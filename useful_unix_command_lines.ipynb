{
 "cells": [
  {
   "cell_type": "code",
   "execution_count": 1,
   "id": "f67ce03b-aa26-41e0-9dd6-1ab13d2dd65a",
   "metadata": {},
   "outputs": [
    {
     "data": {
      "text/plain": [
       "'/Users/wuz8/OneDrive - National Institutes of Health/projects/useful_unix_command_lines'"
      ]
     },
     "execution_count": 1,
     "metadata": {},
     "output_type": "execute_result"
    }
   ],
   "source": [
    "pwd"
   ]
  },
  {
   "cell_type": "code",
   "execution_count": 2,
   "id": "6724574a-5dc2-4601-99c3-cb69ca6ff788",
   "metadata": {},
   "outputs": [
    {
     "name": "stdout",
     "output_type": "stream",
     "text": [
      "total 26544\n",
      "drwxr-xr-x@ 32 wuz8  NIH\\Domain Users    1024 Sep 19 12:21 \u001b[34m.\u001b[m\u001b[m\n",
      "drwxr-xr-x@ 10 wuz8  NIH\\Domain Users     320 Sep 19 09:41 \u001b[34m..\u001b[m\u001b[m\n",
      "drwxr-xr-x@  3 wuz8  NIH\\Domain Users      96 Sep 19 09:48 \u001b[34m.ipynb_checkpoints\u001b[m\u001b[m\n",
      "-rw-------@  1 wuz8  NIH\\Domain Users  207268 Sep 19 09:43 gse48812_24h_LNCAP_SFN.diff_ready_for_analysis.txt\n",
      "-rw-------@  1 wuz8  NIH\\Domain Users  207268 Sep 19 12:21 gse48812_24h_LNCAP_SFN_dge.txt\n",
      "-rw-------@  1 wuz8  NIH\\Domain Users  728879 Sep 19 09:43 gse48812_24h_LNCAPvsPC3.diff_ready_for_analysis.txt\n",
      "-rw-------@  1 wuz8  NIH\\Domain Users  728879 Sep 19 12:21 gse48812_24h_LNCAPvsPC3_dge.txt\n",
      "-rw-------@  1 wuz8  NIH\\Domain Users  291638 Sep 19 09:43 gse48812_24h_PC3_SFN.diff_ready_for_analysis.txt\n",
      "-rw-------@  1 wuz8  NIH\\Domain Users  291638 Sep 19 12:21 gse48812_24h_PC3_SFN_dge.txt\n",
      "-rw-------@  1 wuz8  NIH\\Domain Users  263793 Sep 19 09:43 gse48812_24h_PREC_SFN.diff_ready_for_analysis.txt\n",
      "-rw-------@  1 wuz8  NIH\\Domain Users  263793 Sep 19 12:21 gse48812_24h_PREC_SFN_dge.txt\n",
      "-rw-------@  1 wuz8  NIH\\Domain Users  739352 Sep 19 09:43 gse48812_24h_PRECvsLNCAP.diff_ready_for_analysis.txt\n",
      "-rw-------@  1 wuz8  NIH\\Domain Users  739352 Sep 19 12:21 gse48812_24h_PRECvsLNCAP_dge.txt\n",
      "-rw-------@  1 wuz8  NIH\\Domain Users  684045 Sep 19 09:43 gse48812_24h_PRECvsPC3.diff_ready_for_analysis.txt\n",
      "-rw-------@  1 wuz8  NIH\\Domain Users  684045 Sep 19 12:21 gse48812_24h_PRECvsPC3_dge.txt\n",
      "-rw-------@  1 wuz8  NIH\\Domain Users  225099 Sep 19 09:43 gse48812_6h_LNCAP_SFN.diff_ready_for_analysis.txt\n",
      "-rw-------@  1 wuz8  NIH\\Domain Users  225099 Sep 19 12:21 gse48812_6h_LNCAP_SFN_dge.txt\n",
      "-rw-------@  1 wuz8  NIH\\Domain Users  733434 Sep 19 09:43 gse48812_6h_LNCAPvsPC3.diff_ready_for_analysis.txt\n",
      "-rw-------@  1 wuz8  NIH\\Domain Users  733434 Sep 19 12:21 gse48812_6h_LNCAPvsPC3_dge.txt\n",
      "-rw-------@  1 wuz8  NIH\\Domain Users  239792 Sep 19 09:43 gse48812_6h_PC3_SFN.diff_ready_for_analysis.txt\n",
      "-rw-------@  1 wuz8  NIH\\Domain Users  239792 Sep 19 12:21 gse48812_6h_PC3_SFN_dge.txt\n",
      "-rw-------@  1 wuz8  NIH\\Domain Users  260071 Sep 19 09:43 gse48812_6h_PREC_SFN.diff_ready_for_analysis.txt\n",
      "-rw-------@  1 wuz8  NIH\\Domain Users  260071 Sep 19 12:21 gse48812_6h_PREC_SFN_dge.txt\n",
      "-rw-------@  1 wuz8  NIH\\Domain Users  644556 Sep 19 09:43 gse48812_6h_PRECvsLNCAP.diff_ready_for_analysis.txt\n",
      "-rw-------@  1 wuz8  NIH\\Domain Users  644556 Sep 19 12:21 gse48812_6h_PRECvsLNCAP_dge.txt\n",
      "-rw-------@  1 wuz8  NIH\\Domain Users  566054 Sep 19 09:43 gse48812_6h_PRECvsPC3.diff_ready_for_analysis.txt\n",
      "-rw-------@  1 wuz8  NIH\\Domain Users  566054 Sep 19 12:21 gse48812_6h_PRECvsPC3_dge.txt\n",
      "-rw-------@  1 wuz8  NIH\\Domain Users  566054 Sep 19 12:21 gse48812_6h_PRECvsPC3_dge_new.txt\n",
      "-rw-------@  1 wuz8  NIH\\Domain Users  565367 Sep 19 12:21 gse48812_6h_PRECvsPC3_dge_new_altered_1.txt\n",
      "-rw-------@  1 wuz8  NIH\\Domain Users  566083 Sep 19 12:21 gse48812_6h_PRECvsPC3_dge_newer.txt\n",
      "-rw-------@  1 wuz8  NIH\\Domain Users  566083 Sep 19 12:21 gse48812_6h_PRECvsPC3_dge_newest.txt\n",
      "-rw-------@  1 wuz8  NIH\\Domain Users   26301 Sep 19 12:21 useful_unix_command_lines.ipynb\n"
     ]
    }
   ],
   "source": [
    "! ls -al"
   ]
  },
  {
   "cell_type": "markdown",
   "id": "d42c55e1-1e6b-42f8-8e69-a75a582526eb",
   "metadata": {},
   "source": [
    "above are all of the text (.txt) files in the /Users/wuz8/OneDrive - National Institutes of Health/projects/useful_unix_command_lines directory"
   ]
  },
  {
   "cell_type": "code",
   "execution_count": 3,
   "id": "77c0450b-bd08-4d6b-9ca4-0dfd10f20178",
   "metadata": {},
   "outputs": [
    {
     "name": "stdout",
     "output_type": "stream",
     "text": [
      "total 26544\n",
      "drwxr-xr-x@ 32 wuz8  NIH\\Domain Users    1024 Sep 19 12:21 \u001b[34m.\u001b[m\u001b[m\n",
      "drwxr-xr-x@ 10 wuz8  NIH\\Domain Users     320 Sep 19 09:41 \u001b[34m..\u001b[m\u001b[m\n",
      "drwxr-xr-x@  3 wuz8  NIH\\Domain Users      96 Sep 19 09:48 \u001b[34m.ipynb_checkpoints\u001b[m\u001b[m\n",
      "-rw-------@  1 wuz8  NIH\\Domain Users  207268 Sep 19 09:43 gse48812_24h_LNCAP_SFN.diff_ready_for_analysis.txt\n",
      "-rw-------@  1 wuz8  NIH\\Domain Users  207268 Sep 19 12:21 gse48812_24h_LNCAP_SFN_dge.txt\n",
      "-rw-------@  1 wuz8  NIH\\Domain Users  728879 Sep 19 09:43 gse48812_24h_LNCAPvsPC3.diff_ready_for_analysis.txt\n",
      "-rw-------@  1 wuz8  NIH\\Domain Users  728879 Sep 19 12:21 gse48812_24h_LNCAPvsPC3_dge.txt\n",
      "-rw-------@  1 wuz8  NIH\\Domain Users  291638 Sep 19 09:43 gse48812_24h_PC3_SFN.diff_ready_for_analysis.txt\n",
      "-rw-------@  1 wuz8  NIH\\Domain Users  291638 Sep 19 12:21 gse48812_24h_PC3_SFN_dge.txt\n",
      "-rw-------@  1 wuz8  NIH\\Domain Users  263793 Sep 19 09:43 gse48812_24h_PREC_SFN.diff_ready_for_analysis.txt\n",
      "-rw-------@  1 wuz8  NIH\\Domain Users  263793 Sep 19 12:21 gse48812_24h_PREC_SFN_dge.txt\n",
      "-rw-------@  1 wuz8  NIH\\Domain Users  739352 Sep 19 09:43 gse48812_24h_PRECvsLNCAP.diff_ready_for_analysis.txt\n",
      "-rw-------@  1 wuz8  NIH\\Domain Users  739352 Sep 19 12:21 gse48812_24h_PRECvsLNCAP_dge.txt\n",
      "-rw-------@  1 wuz8  NIH\\Domain Users  684045 Sep 19 09:43 gse48812_24h_PRECvsPC3.diff_ready_for_analysis.txt\n",
      "-rw-------@  1 wuz8  NIH\\Domain Users  684045 Sep 19 12:21 gse48812_24h_PRECvsPC3_dge.txt\n",
      "-rw-------@  1 wuz8  NIH\\Domain Users  225099 Sep 19 09:43 gse48812_6h_LNCAP_SFN.diff_ready_for_analysis.txt\n",
      "-rw-------@  1 wuz8  NIH\\Domain Users  225099 Sep 19 12:21 gse48812_6h_LNCAP_SFN_dge.txt\n",
      "-rw-------@  1 wuz8  NIH\\Domain Users  733434 Sep 19 09:43 gse48812_6h_LNCAPvsPC3.diff_ready_for_analysis.txt\n",
      "-rw-------@  1 wuz8  NIH\\Domain Users  733434 Sep 19 12:21 gse48812_6h_LNCAPvsPC3_dge.txt\n",
      "-rw-------@  1 wuz8  NIH\\Domain Users  239792 Sep 19 09:43 gse48812_6h_PC3_SFN.diff_ready_for_analysis.txt\n",
      "-rw-------@  1 wuz8  NIH\\Domain Users  239792 Sep 19 12:21 gse48812_6h_PC3_SFN_dge.txt\n",
      "-rw-------@  1 wuz8  NIH\\Domain Users  260071 Sep 19 09:43 gse48812_6h_PREC_SFN.diff_ready_for_analysis.txt\n",
      "-rw-------@  1 wuz8  NIH\\Domain Users  260071 Sep 19 12:21 gse48812_6h_PREC_SFN_dge.txt\n",
      "-rw-------@  1 wuz8  NIH\\Domain Users  644556 Sep 19 09:43 gse48812_6h_PRECvsLNCAP.diff_ready_for_analysis.txt\n",
      "-rw-------@  1 wuz8  NIH\\Domain Users  644556 Sep 19 12:21 gse48812_6h_PRECvsLNCAP_dge.txt\n",
      "-rw-------@  1 wuz8  NIH\\Domain Users  566054 Sep 19 09:43 gse48812_6h_PRECvsPC3.diff_ready_for_analysis.txt\n",
      "-rw-------@  1 wuz8  NIH\\Domain Users  566054 Sep 19 12:21 gse48812_6h_PRECvsPC3_dge.txt\n",
      "-rw-------@  1 wuz8  NIH\\Domain Users  566054 Sep 19 12:21 gse48812_6h_PRECvsPC3_dge_new.txt\n",
      "-rw-------@  1 wuz8  NIH\\Domain Users  565367 Sep 19 12:21 gse48812_6h_PRECvsPC3_dge_new_altered_1.txt\n",
      "-rw-------@  1 wuz8  NIH\\Domain Users  566083 Sep 19 12:21 gse48812_6h_PRECvsPC3_dge_newer.txt\n",
      "-rw-------@  1 wuz8  NIH\\Domain Users  566083 Sep 19 12:21 gse48812_6h_PRECvsPC3_dge_newest.txt\n",
      "-rw-------@  1 wuz8  NIH\\Domain Users   26301 Sep 19 12:21 useful_unix_command_lines.ipynb\n"
     ]
    }
   ],
   "source": [
    "# changing _analysis_ready in all of the files to _ready_for_analysis\n",
    "# note that this method for renaming files work when files share similar pattern\n",
    "! for file in *.txt; do mv $file ${file/_analysis_ready.txt/_ready_for_analysis.txt}; done\n",
    "! ls -al"
   ]
  },
  {
   "cell_type": "code",
   "execution_count": 4,
   "id": "2bf36eb2-7089-4db5-abe1-37bff16fff74",
   "metadata": {},
   "outputs": [
    {
     "name": "stdout",
     "output_type": "stream",
     "text": [
      "cp: gse48812_24h_LNCAP_SFN_dge.txt and gse48812_24h_LNCAP_SFN_dge.txt are identical (not copied).\n",
      "cp: gse48812_24h_LNCAPvsPC3_dge.txt and gse48812_24h_LNCAPvsPC3_dge.txt are identical (not copied).\n",
      "cp: gse48812_24h_PC3_SFN_dge.txt and gse48812_24h_PC3_SFN_dge.txt are identical (not copied).\n",
      "cp: gse48812_24h_PREC_SFN_dge.txt and gse48812_24h_PREC_SFN_dge.txt are identical (not copied).\n",
      "cp: gse48812_24h_PRECvsLNCAP_dge.txt and gse48812_24h_PRECvsLNCAP_dge.txt are identical (not copied).\n",
      "cp: gse48812_24h_PRECvsPC3_dge.txt and gse48812_24h_PRECvsPC3_dge.txt are identical (not copied).\n",
      "cp: gse48812_6h_LNCAP_SFN_dge.txt and gse48812_6h_LNCAP_SFN_dge.txt are identical (not copied).\n",
      "cp: gse48812_6h_LNCAPvsPC3_dge.txt and gse48812_6h_LNCAPvsPC3_dge.txt are identical (not copied).\n",
      "cp: gse48812_6h_PC3_SFN_dge.txt and gse48812_6h_PC3_SFN_dge.txt are identical (not copied).\n",
      "cp: gse48812_6h_PREC_SFN_dge.txt and gse48812_6h_PREC_SFN_dge.txt are identical (not copied).\n",
      "cp: gse48812_6h_PRECvsLNCAP_dge.txt and gse48812_6h_PRECvsLNCAP_dge.txt are identical (not copied).\n",
      "cp: gse48812_6h_PRECvsPC3_dge.txt and gse48812_6h_PRECvsPC3_dge.txt are identical (not copied).\n",
      "cp: gse48812_6h_PRECvsPC3_dge_new.txt and gse48812_6h_PRECvsPC3_dge_new.txt are identical (not copied).\n",
      "cp: gse48812_6h_PRECvsPC3_dge_new_altered_1.txt and gse48812_6h_PRECvsPC3_dge_new_altered_1.txt are identical (not copied).\n",
      "cp: gse48812_6h_PRECvsPC3_dge_newer.txt and gse48812_6h_PRECvsPC3_dge_newer.txt are identical (not copied).\n",
      "cp: gse48812_6h_PRECvsPC3_dge_newest.txt and gse48812_6h_PRECvsPC3_dge_newest.txt are identical (not copied).\n",
      "total 26544\n",
      "drwxr-xr-x@ 32 wuz8  NIH\\Domain Users    1024 Sep 19 12:21 \u001b[34m.\u001b[m\u001b[m\n",
      "drwxr-xr-x@ 10 wuz8  NIH\\Domain Users     320 Sep 19 09:41 \u001b[34m..\u001b[m\u001b[m\n",
      "drwxr-xr-x@  3 wuz8  NIH\\Domain Users      96 Sep 19 09:48 \u001b[34m.ipynb_checkpoints\u001b[m\u001b[m\n",
      "-rw-------@  1 wuz8  NIH\\Domain Users  207268 Sep 19 09:43 gse48812_24h_LNCAP_SFN.diff_ready_for_analysis.txt\n",
      "-rw-------@  1 wuz8  NIH\\Domain Users  207268 Sep 19 12:22 gse48812_24h_LNCAP_SFN_dge.txt\n",
      "-rw-------@  1 wuz8  NIH\\Domain Users  728879 Sep 19 09:43 gse48812_24h_LNCAPvsPC3.diff_ready_for_analysis.txt\n",
      "-rw-------@  1 wuz8  NIH\\Domain Users  728879 Sep 19 12:22 gse48812_24h_LNCAPvsPC3_dge.txt\n",
      "-rw-------@  1 wuz8  NIH\\Domain Users  291638 Sep 19 09:43 gse48812_24h_PC3_SFN.diff_ready_for_analysis.txt\n",
      "-rw-------@  1 wuz8  NIH\\Domain Users  291638 Sep 19 12:22 gse48812_24h_PC3_SFN_dge.txt\n",
      "-rw-------@  1 wuz8  NIH\\Domain Users  263793 Sep 19 09:43 gse48812_24h_PREC_SFN.diff_ready_for_analysis.txt\n",
      "-rw-------@  1 wuz8  NIH\\Domain Users  263793 Sep 19 12:22 gse48812_24h_PREC_SFN_dge.txt\n",
      "-rw-------@  1 wuz8  NIH\\Domain Users  739352 Sep 19 09:43 gse48812_24h_PRECvsLNCAP.diff_ready_for_analysis.txt\n",
      "-rw-------@  1 wuz8  NIH\\Domain Users  739352 Sep 19 12:22 gse48812_24h_PRECvsLNCAP_dge.txt\n",
      "-rw-------@  1 wuz8  NIH\\Domain Users  684045 Sep 19 09:43 gse48812_24h_PRECvsPC3.diff_ready_for_analysis.txt\n",
      "-rw-------@  1 wuz8  NIH\\Domain Users  684045 Sep 19 12:22 gse48812_24h_PRECvsPC3_dge.txt\n",
      "-rw-------@  1 wuz8  NIH\\Domain Users  225099 Sep 19 09:43 gse48812_6h_LNCAP_SFN.diff_ready_for_analysis.txt\n",
      "-rw-------@  1 wuz8  NIH\\Domain Users  225099 Sep 19 12:22 gse48812_6h_LNCAP_SFN_dge.txt\n",
      "-rw-------@  1 wuz8  NIH\\Domain Users  733434 Sep 19 09:43 gse48812_6h_LNCAPvsPC3.diff_ready_for_analysis.txt\n",
      "-rw-------@  1 wuz8  NIH\\Domain Users  733434 Sep 19 12:22 gse48812_6h_LNCAPvsPC3_dge.txt\n",
      "-rw-------@  1 wuz8  NIH\\Domain Users  239792 Sep 19 09:43 gse48812_6h_PC3_SFN.diff_ready_for_analysis.txt\n",
      "-rw-------@  1 wuz8  NIH\\Domain Users  239792 Sep 19 12:22 gse48812_6h_PC3_SFN_dge.txt\n",
      "-rw-------@  1 wuz8  NIH\\Domain Users  260071 Sep 19 09:43 gse48812_6h_PREC_SFN.diff_ready_for_analysis.txt\n",
      "-rw-------@  1 wuz8  NIH\\Domain Users  260071 Sep 19 12:22 gse48812_6h_PREC_SFN_dge.txt\n",
      "-rw-------@  1 wuz8  NIH\\Domain Users  644556 Sep 19 09:43 gse48812_6h_PRECvsLNCAP.diff_ready_for_analysis.txt\n",
      "-rw-------@  1 wuz8  NIH\\Domain Users  644556 Sep 19 12:22 gse48812_6h_PRECvsLNCAP_dge.txt\n",
      "-rw-------@  1 wuz8  NIH\\Domain Users  566054 Sep 19 09:43 gse48812_6h_PRECvsPC3.diff_ready_for_analysis.txt\n",
      "-rw-------@  1 wuz8  NIH\\Domain Users  566054 Sep 19 12:22 gse48812_6h_PRECvsPC3_dge.txt\n",
      "-rw-------@  1 wuz8  NIH\\Domain Users  566054 Sep 19 12:21 gse48812_6h_PRECvsPC3_dge_new.txt\n",
      "-rw-------@  1 wuz8  NIH\\Domain Users  565367 Sep 19 12:21 gse48812_6h_PRECvsPC3_dge_new_altered_1.txt\n",
      "-rw-------@  1 wuz8  NIH\\Domain Users  566083 Sep 19 12:21 gse48812_6h_PRECvsPC3_dge_newer.txt\n",
      "-rw-------@  1 wuz8  NIH\\Domain Users  566083 Sep 19 12:21 gse48812_6h_PRECvsPC3_dge_newest.txt\n",
      "-rw-------@  1 wuz8  NIH\\Domain Users   26301 Sep 19 12:21 useful_unix_command_lines.ipynb\n"
     ]
    }
   ],
   "source": [
    "# removing diff_ready_for_analysis.txt from the files and replace with dge but save the original file\n",
    "# note this method again depends on the file names having a common pattern\n",
    "! for file in *.txt; do cp $file ${file/.diff_ready_for_analysis.txt/_dge.txt}; done\n",
    "! ls -al"
   ]
  },
  {
   "cell_type": "code",
   "execution_count": 5,
   "id": "1c1f55f7-a392-44fb-b656-41e94fa5178b",
   "metadata": {},
   "outputs": [
    {
     "name": "stdout",
     "output_type": "stream",
     "text": [
      "gse48812_24h_LNCAP_SFN_dge\n",
      "gse48812_24h_LNCAPvsPC3_dge\n",
      "gse48812_24h_PC3_SFN_dge\n",
      "gse48812_24h_PREC_SFN_dge\n",
      "gse48812_24h_PRECvsLNCAP_dge\n",
      "gse48812_24h_PRECvsPC3_dge\n",
      "gse48812_6h_LNCAP_SFN_dge\n",
      "gse48812_6h_LNCAPvsPC3_dge\n",
      "gse48812_6h_PC3_SFN_dge\n",
      "gse48812_6h_PREC_SFN_dge\n",
      "gse48812_6h_PRECvsLNCAP_dge\n",
      "gse48812_6h_PRECvsPC3_dge\n"
     ]
    }
   ],
   "source": [
    "# the file extenstion (.txt) is gone\n",
    "! for file in *_dge.txt; do echo ${file%.*}; done"
   ]
  },
  {
   "cell_type": "code",
   "execution_count": 6,
   "id": "d56fb3d6-c7a8-44e8-84fa-f304e2a89674",
   "metadata": {},
   "outputs": [
    {
     "name": "stdout",
     "output_type": "stream",
     "text": [
      "gse48812_24h_LNCAP_SFN\n",
      "gse48812_24h_LNCAPvsPC3\n",
      "gse48812_24h_PC3_SFN\n",
      "gse48812_24h_PREC_SFN\n",
      "gse48812_24h_PRECvsLNCAP\n",
      "gse48812_24h_PRECvsPC3\n",
      "gse48812_6h_LNCAP_SFN\n",
      "gse48812_6h_LNCAPvsPC3\n",
      "gse48812_6h_PC3_SFN\n",
      "gse48812_6h_PREC_SFN\n",
      "gse48812_6h_PRECvsLNCAP\n",
      "gse48812_6h_PRECvsPC3\n"
     ]
    }
   ],
   "source": [
    "# diff_ready_for_analysis.txt is removed from files with this appended\n",
    "! for file in *diff_ready_for_analysis.txt; do echo ${file%%.*}; done"
   ]
  },
  {
   "cell_type": "code",
   "execution_count": 7,
   "id": "e9b13659-9ce2-4ac2-9e8f-60df7e7581de",
   "metadata": {},
   "outputs": [
    {
     "name": "stdout",
     "output_type": "stream",
     "text": [
      "gse48812_24h_LNCAP_SFN\n",
      "gse48812_24h_LNCAPvsPC3\n",
      "gse48812_24h_PC3_SFN\n",
      "gse48812_24h_PREC_SFN\n",
      "gse48812_24h_PRECvsLNCAP\n",
      "gse48812_24h_PRECvsPC3\n",
      "gse48812_6h_LNCAP_SFN\n",
      "gse48812_6h_LNCAPvsPC3\n",
      "gse48812_6h_PC3_SFN\n",
      "gse48812_6h_PREC_SFN\n",
      "gse48812_6h_PRECvsLNCAP\n",
      "gse48812_6h_PRECvsPC3\n"
     ]
    }
   ],
   "source": [
    "# *_dge.txt is removed from file with this appended\n",
    "! for file in *_dge.txt ; do echo ${file%_*}; done"
   ]
  },
  {
   "cell_type": "code",
   "execution_count": 8,
   "id": "66e63630-3aae-4bda-83b3-b4238ece243d",
   "metadata": {},
   "outputs": [],
   "source": [
    "# changing column headers and removing rows from gse48812_6h_PRECvsPC3_dge.txt \n",
    "# but first create the working copy gse48812_6h_PRECvsPC3_dge_new.txt using the cp (copy) command\n",
    "! cp gse48812_6h_PRECvsPC3_dge.txt gse48812_6h_PRECvsPC3_dge_new.txt"
   ]
  },
  {
   "cell_type": "code",
   "execution_count": 9,
   "id": "3938fbd6-7fdf-4d3f-a29d-6bdfed257ea8",
   "metadata": {},
   "outputs": [
    {
     "name": "stdout",
     "output_type": "stream",
     "text": [
      "Name\tEnsembl\tFold\tLog2\tP-value\tQ-val\n",
      "UBE2Q1\tENSG00000160714\t1.56933333333\t0.650151819655\t8.554916e-08\t8.604391e-08\n",
      "RNF11\tENSG00000123091\t1.68450106157\t0.752321337645\t3.438522e-10\t4.236458e-10\n",
      "RNF13\tENSG00000082996\t1.69178082192\t0.758542672705\t0.0006393757\t0.0004308067\n",
      "PMM2\tENSG00000140650\t0.4640625\t-1.10760897409\t2.851126e-18\t5.799816e-18\n",
      "ZNF703\tENSG00000183779\t3.98788927336\t1.99562535282\t1.079868e-43\t5.695992e-43\n",
      "SPR\tENSG00000116096\t2.57552870091\t1.3648686171\t6.194672e-21\t1.438015e-20\n",
      "ZNF707\tENSG00000181135\t2.21812596006\t1.14934129372\t7.671123e-15\t1.280867e-14\n",
      "ZNF706\tENSG00000120963\t1.61990212072\t0.695906643838\t2.336728e-07\t2.268623e-07\n",
      "RNF114\tENSG00000124226\t1.92899880335\t0.947852248415\t6.982047e-16\t1.237618e-15\n"
     ]
    }
   ],
   "source": [
    "! head gse48812_6h_PRECvsPC3_dge_new.txt"
   ]
  },
  {
   "cell_type": "code",
   "execution_count": 10,
   "id": "b0893f21-47a6-4f4c-9c89-5bed6b10bff9",
   "metadata": {},
   "outputs": [
    {
     "name": "stdout",
     "output_type": "stream",
     "text": [
      "Name\tEnsembl_gene_id\tFold_change\tLog2_fold_change\tP-value\tQ-value\n",
      "UBE2Q1\tENSG00000160714\t1.56933333333\t0.650151819655\t8.554916e-08\t8.604391e-08\n",
      "RNF11\tENSG00000123091\t1.68450106157\t0.752321337645\t3.438522e-10\t4.236458e-10\n",
      "RNF13\tENSG00000082996\t1.69178082192\t0.758542672705\t0.0006393757\t0.0004308067\n",
      "PMM2\tENSG00000140650\t0.4640625\t-1.10760897409\t2.851126e-18\t5.799816e-18\n",
      "ZNF703\tENSG00000183779\t3.98788927336\t1.99562535282\t1.079868e-43\t5.695992e-43\n",
      "SPR\tENSG00000116096\t2.57552870091\t1.3648686171\t6.194672e-21\t1.438015e-20\n",
      "ZNF707\tENSG00000181135\t2.21812596006\t1.14934129372\t7.671123e-15\t1.280867e-14\n",
      "ZNF706\tENSG00000120963\t1.61990212072\t0.695906643838\t2.336728e-07\t2.268623e-07\n",
      "RNF114\tENSG00000124226\t1.92899880335\t0.947852248415\t6.982047e-16\t1.237618e-15\n"
     ]
    }
   ],
   "source": [
    "# using awk and gsub to change column header Ensembl to Ensembl_gene_id, Fold to Fold_change, Log2 to Log2_fold_change, Q-val to Q-value\n",
    "! awk '{gsub(\"Ensembl\", \"Ensembl_gene_id\"); gsub(\"Fold\", \"Fold_change\"); gsub(\"Log2\",\"Log2_fold_change\"); gsub(\"Q-val\", \"Q-value\"); print}' gse48812_6h_PRECvsPC3_dge_new.txt > gse48812_6h_PRECvsPC3_dge_newer.txt\n",
    "! head gse48812_6h_PRECvsPC3_dge_newer.txt"
   ]
  },
  {
   "cell_type": "code",
   "execution_count": 11,
   "id": "842f33ee-6640-406e-926c-ee9120aabf3c",
   "metadata": {},
   "outputs": [
    {
     "name": "stdout",
     "output_type": "stream",
     "text": [
      "Name                    Ensembl_gene_id    Fold_change        Log2_fold_change  P-value        Q-value\n",
      "UBE2Q1                  ENSG00000160714    1.56933333333      0.650151819655    8.554916e-08   8.604391e-08\n",
      "RNF11                   ENSG00000123091    1.68450106157      0.752321337645    3.438522e-10   4.236458e-10\n",
      "RNF13                   ENSG00000082996    1.69178082192      0.758542672705    0.0006393757   0.0004308067\n",
      "PMM2                    ENSG00000140650    0.4640625          -1.10760897409    2.851126e-18   5.799816e-18\n",
      "ZNF703                  ENSG00000183779    3.98788927336      1.99562535282     1.079868e-43   5.695992e-43\n",
      "SPR                     ENSG00000116096    2.57552870091      1.3648686171      6.194672e-21   1.438015e-20\n",
      "ZNF707                  ENSG00000181135    2.21812596006      1.14934129372     7.671123e-15   1.280867e-14\n",
      "ZNF706                  ENSG00000120963    1.61990212072      0.695906643838    2.336728e-07   2.268623e-07\n",
      "RNF114                  ENSG00000124226    1.92899880335      0.947852248415    6.982047e-16   1.237618e-15\n"
     ]
    }
   ],
   "source": [
    "# the above table does not look nicely formatted\n",
    "# format using column\n",
    "! column -t gse48812_6h_PRECvsPC3_dge_newer.txt | head"
   ]
  },
  {
   "cell_type": "code",
   "execution_count": 12,
   "id": "cb4ea92a-e0fe-46ac-af23-d7c455926ebb",
   "metadata": {},
   "outputs": [
    {
     "name": "stdout",
     "output_type": "stream",
     "text": [
      "Name                    Ensembl_gene_id    Fold_change        Log2_fold_change  P-value        Q-value\n",
      "UBE2Q1                  ENSG00000160714    1.56933333333      0.650151819655    8.554916e-08   8.604391e-08\n",
      "RNF11                   ENSG00000123091    1.68450106157      0.752321337645    3.438522e-10   4.236458e-10\n",
      "RNF13                   ENSG00000082996    1.69178082192      0.758542672705    0.0006393757   0.0004308067\n",
      "PMM2                    ENSG00000140650    0.4640625          -1.10760897409    2.851126e-18   5.799816e-18\n",
      "ZNF703                  ENSG00000183779    3.98788927336      1.99562535282     1.079868e-43   5.695992e-43\n",
      "SPR                     ENSG00000116096    2.57552870091      1.3648686171      6.194672e-21   1.438015e-20\n",
      "ZNF707                  ENSG00000181135    2.21812596006      1.14934129372     7.671123e-15   1.280867e-14\n",
      "ZNF706                  ENSG00000120963    1.61990212072      0.695906643838    2.336728e-07   2.268623e-07\n",
      "RNF114                  ENSG00000124226    1.92899880335      0.947852248415    6.982047e-16   1.237618e-15\n"
     ]
    }
   ],
   "source": [
    "# changing column heading using sed\n",
    "# note that s indicates substitution and 1s indicates make the subsitition in the first line\n",
    "! sed -e '1s/Ensembl/Ensembl_gene_id/' -e '1s/Fold/Fold_change/' -e '1s/Log2/Log2_fold_change/' -e '1s/Q-val/Q-value/' gse48812_6h_PRECvsPC3_dge_new.txt > gse48812_6h_PRECvsPC3_dge_newest.txt\n",
    "! column -t gse48812_6h_PRECvsPC3_dge_newest.txt | head"
   ]
  },
  {
   "cell_type": "code",
   "execution_count": 13,
   "id": "36a472d2-aaf6-4c24-ad3f-9bcbd288d746",
   "metadata": {},
   "outputs": [
    {
     "name": "stdout",
     "output_type": "stream",
     "text": [
      "there are 7557 lines in gse48812_6h_PRECvsPC3_dge_new.txt\n",
      "Name\tEnsembl\tFold\tLog2\tP-value\tQ-val\n",
      "RNF115\tENSG00000121848\t1.55624355005\t0.638067857854\t6.240324e-06\t5.297964e-06\n",
      "ZC3H15\tENSG00000065548\t1.62711148649\t0.702313105031\t4.916032e-09\t5.528893e-09\n",
      "RNF111\tENSG00000157450\t0.742914979757\t-0.428730978741\t0.002155612\t0.001350595\n",
      "ZC3H18\tENSG00000158545\t0.695025822234\t-0.524861515731\t1.161513e-05\t9.587968e-06\n",
      "DHX8\tENSG00000067596\t0.658215661104\t-0.603367741582\t1.056792e-06\t9.671343e-07\n",
      "GRINA\tENSG00000178719\t1.88481012658\t0.914419195518\t2.400915e-10\t2.990703e-10\n",
      "NUP93\tENSG00000102900\t0.725639399704\t-0.462675303554\t5.381745e-05\t4.138168e-05\n",
      "SP6\tENSG00000189120\t0.621776504298\t-0.685531993765\t4.021606e-05\t3.124238e-05\n",
      "OPA3\tENSG00000125741\t0.774638633377\t-0.368404640524\t0.007821736\t0.004497062\n",
      "there are 7548 lines in gse48812_6h_PRECvsPC3_dge_new_altered_1.txt\n"
     ]
    }
   ],
   "source": [
    "# deleting a range of rows from a file using sed\n",
    "! echo \"there are\" $(cat gse48812_6h_PRECvsPC3_dge_new.txt | wc -l) \"lines in gse48812_6h_PRECvsPC3_dge_new.txt\"\n",
    "! sed '2,10d' gse48812_6h_PRECvsPC3_dge_new.txt > gse48812_6h_PRECvsPC3_dge_new_altered_1.txt\n",
    "! column gse48812_6h_PRECvsPC3_dge_new_altered_1.txt | head\n",
    "! echo \"there are\" $(cat gse48812_6h_PRECvsPC3_dge_new_altered_1.txt | wc -l) \"lines in gse48812_6h_PRECvsPC3_dge_new_altered_1.txt\""
   ]
  }
 ],
 "metadata": {
  "kernelspec": {
   "display_name": "Python 3",
   "language": "python",
   "name": "python3"
  },
  "language_info": {
   "codemirror_mode": {
    "name": "ipython",
    "version": 3
   },
   "file_extension": ".py",
   "mimetype": "text/x-python",
   "name": "python",
   "nbconvert_exporter": "python",
   "pygments_lexer": "ipython3",
   "version": "3.9.5"
  }
 },
 "nbformat": 4,
 "nbformat_minor": 5
}
